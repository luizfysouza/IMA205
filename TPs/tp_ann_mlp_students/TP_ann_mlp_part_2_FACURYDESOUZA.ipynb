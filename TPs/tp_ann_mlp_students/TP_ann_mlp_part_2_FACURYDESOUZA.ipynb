{
  "cells": [
    {
      "cell_type": "markdown",
      "metadata": {
        "id": "RIjFqlgERHAq"
      },
      "source": [
        "# IMA-205\n",
        "# TP ANN (part B)\n",
        "\n",
        "## Coding a Multi-Layer Perceptron with Tensorflow\n",
        "Author : Alasdair Newson"
      ]
    },
    {
      "cell_type": "markdown",
      "metadata": {
        "id": "oG_lwX5GRHAs"
      },
      "source": [
        "In the second part of this TP, we will be looking at the Multi-Layer Perceptron (MLP) using Tensorflow (http://www.tensorflow.org)\n",
        "\n",
        "We will be using the following packages :\n",
        "   \n",
        "   - Scikit-learn (http://scikit-learn.org/)\n",
        "   - Tensorflow (http://www.tensorflow.org)\n",
        "\n",
        "The following commands will make sure that you have all the necessary packages"
      ]
    },
    {
      "cell_type": "code",
      "execution_count": 1,
      "metadata": {
        "id": "sCGFw05kRHAs"
      },
      "outputs": [
        {
          "name": "stderr",
          "output_type": "stream",
          "text": [
            "2023-04-03 09:28:46.332308: I tensorflow/core/platform/cpu_feature_guard.cc:193] This TensorFlow binary is optimized with oneAPI Deep Neural Network Library (oneDNN) to use the following CPU instructions in performance-critical operations:  AVX2 FMA\n",
            "To enable them in other operations, rebuild TensorFlow with the appropriate compiler flags.\n",
            "2023-04-03 09:28:46.638650: W tensorflow/compiler/xla/stream_executor/platform/default/dso_loader.cc:64] Could not load dynamic library 'libcudart.so.11.0'; dlerror: libcudart.so.11.0: cannot open shared object file: No such file or directory\n",
            "2023-04-03 09:28:46.638667: I tensorflow/compiler/xla/stream_executor/cuda/cudart_stub.cc:29] Ignore above cudart dlerror if you do not have a GPU set up on your machine.\n",
            "2023-04-03 09:28:47.626799: W tensorflow/compiler/xla/stream_executor/platform/default/dso_loader.cc:64] Could not load dynamic library 'libnvinfer.so.7'; dlerror: libnvinfer.so.7: cannot open shared object file: No such file or directory\n",
            "2023-04-03 09:28:47.626986: W tensorflow/compiler/xla/stream_executor/platform/default/dso_loader.cc:64] Could not load dynamic library 'libnvinfer_plugin.so.7'; dlerror: libnvinfer_plugin.so.7: cannot open shared object file: No such file or directory\n",
            "2023-04-03 09:28:47.626997: W tensorflow/compiler/tf2tensorrt/utils/py_utils.cc:38] TF-TRT Warning: Cannot dlopen some TensorRT libraries. If you would like to use Nvidia GPU with TensorRT, please make sure the missing libraries mentioned above are installed properly.\n"
          ]
        },
        {
          "name": "stdout",
          "output_type": "stream",
          "text": [
            "2.11.0\n"
          ]
        }
      ],
      "source": [
        "%matplotlib inline                      \n",
        "\n",
        "import numpy as np\n",
        "import matplotlib.pyplot as plt\n",
        "import os\n",
        "import pdb\n",
        "\n",
        "import sklearn  # scikit-learn\n",
        "import tensorflow as tf\n",
        "\n",
        "# import tensorflow models\n",
        "from tensorflow.keras.models import Sequential, Model\n",
        "from tensorflow.keras.layers import Dense, Dropout, Activation, Flatten, Input\n",
        "from tensorflow.keras.layers import Conv2D, MaxPooling2D\n",
        "from tensorflow.keras import optimizers\n",
        "print(tf.keras.__version__)"
      ]
    },
    {
      "cell_type": "markdown",
      "metadata": {
        "id": "dxgAcMrMRHAt"
      },
      "source": [
        "# 1 - Multi-Layer Perceptron with Tensorflow"
      ]
    },
    {
      "cell_type": "markdown",
      "metadata": {
        "id": "OjK-B5mkRHAt"
      },
      "source": [
        "## Introduction to TensorFlow"
      ]
    },
    {
      "cell_type": "markdown",
      "metadata": {
        "id": "gzVmdesCRHAu"
      },
      "source": [
        "Tensorflow is an environment written by Google which allows easy implementation of deep neural networks. In particular, it provides automatic differentiation so that the user does not have to determine gradients manually, which can be extremely long even for simple networks, as you have seen in the previous TP*.\n",
        "\n",
        "This, in turn allows a user to apply techniques such as stochastic gradient descent for training purposes. The differentiation graph is created symbolically when the network is created. Since a neural network is simply a cascade (or concatenation) of simple functions, the network in Tensorflow is simply a sequence of functions which are applied to one or several variables. The output of the final function is the output of the network.\n",
        "\n",
        "For instance, if the input were ```x``` and the network consisted of two functions ```a``` and ```b```, you could create the network simply by writing :\n",
        "\n",
        "```y = b(a(x))```\n",
        "\n",
        "However, it is clear that these functions and variables must be of some special type, so that the computer can figure out how to carry out the automatic differentiation for training. Tensorflow provides these functions and variables, which must be created with the Tensorflow package.\n",
        "\n",
        "Previously, Tensorflow required a strict separation between the creation (declaration) of variables and their execution (giving a numerical value, using the ```Session``` function). With Keras and Tensorflow 2, this separation has been removed, and the language has become simpler, in particular for creating and training networks.\n",
        "\n",
        "## Creating a network\n",
        "\n",
        "To create a network, there are two (main) methods :\n",
        "\n",
        "### Creating a model using the Sequential API\n",
        "\n",
        "Tensorflow has a simple way of adding layers to create a neural network. First, you can indicate to Tensorflow that the model is 'sequential' (a simple model, with not many tweaks). For this, you can use the following function :\n",
        "- ```model = Sequential()```\n",
        "\n",
        "After this, you can add layers with the function.\n",
        "\n",
        "- ```model.add()```\n",
        "\n",
        "You can then use the ```Dense``` (and other) functions to specify different layer types.  __Note that in the case of this approach, you will have to specify the input image size in the first layer of the network, inside the first layer function.__ So, for example, if the first layer is a dense layer with a relu activation, with n_out output neurons, and n_input neurons :\n",
        "\n",
        "- model = Sequential()\n",
        "- model.add(Dense(n_out,activation,input_shape=(n_in,),activation='relu'))\n",
        "\n",
        "Otherwise, the network does not know how many weights to create. __Be careful of this special case (the first layer)__ \n",
        "\n",
        "### Creating a model using the standard API\n",
        "\n",
        "Otherwise, another approach to creating the model is to explicitly create the input variable, and just cascade the different functions, as in Tensorflow. So, for the same example, we would have :\n",
        "\n",
        "- input = Input(shape=(n_in,))\n",
        "- output = Dense(n_in,n_out,activation='relu')(input)\n",
        "- model = Model(input, output)\n",
        "\n",
        "\n",
        "For now, let's use the Sequential API (however, if you want to try the standard API, go ahead).\n",
        "\n",
        "## Training and testing a network\n",
        "\n",
        "Tensorflow allows the easy training of a network with the following functions :\n",
        "\n",
        "- model.compile(loss='binary_crossentropy', optimizer=optimizers.Adam(lr=learning_rate)) : create the loss function and define the optimiser used. This function can do many other useful things (such as specifying different metrics to look at the model's performance\n",
        "\n",
        "- model.fit(...) : train the model\n",
        "- model.evaluate(...) : test the model\n",
        "- model.predict(...) : carry out a simple forward pass on the model\n",
        "\n",
        "Please look at the Tensorflow documenation for further details on these functions.\n"
      ]
    },
    {
      "cell_type": "markdown",
      "metadata": {
        "id": "UYFxzt5mRHAy"
      },
      "source": [
        "# MLP with TensorFlow\n",
        "\n",
        "We are now going to create an MLP with tensorflow. We will start with an MLP with one hidden layer. The network should consist of the following operations, in the following order :\n",
        "\n",
        "- Fully connected layer, with 50 output neurons\n",
        "- ReLU activation\n",
        "- Fully connected layer, with 50 output neurons\n",
        "- ReLU activation\n",
        "- Fully connected layer, with 1 output neuron (because we have a binary classification problem)\n",
        "- Sigmoid output activation\n",
        "\n",
        "We are going to be solving a binary classification \n",
        "problem, so the output of the network should be a scalar between 0 and 1 (thus the last layer is a Sigmoid activation).\n",
        "\n",
        "The loss function should be defined as the binary cross-entropy between the predicted class and the true class\n"
      ]
    },
    {
      "cell_type": "markdown",
      "metadata": {
        "id": "jdGVzE6NRHAy"
      },
      "source": [
        "First, we load the data."
      ]
    },
    {
      "cell_type": "code",
      "execution_count": 44,
      "metadata": {
        "id": "EfiJwuLmRHAy"
      },
      "outputs": [
        {
          "data": {
            "image/png": "[encoded data removed]",
            "text/plain": [
              "<Figure size 640x480 with 1 Axes>"
            ]
          },
          "metadata": {},
          "output_type": "display_data"
        }
      ],
      "source": [
        "from sklearn import datasets\n",
        "from sklearn.preprocessing import MinMaxScaler\n",
        "from sklearn.model_selection import train_test_split\n",
        "\n",
        "X, Y = datasets.make_circles(n_samples=1000, noise=0.05, factor=0.5)\n",
        "# X, y = datasets.make_moons(n_samples=1000, random_state=42)  # try with 2 moons\n",
        "X = MinMaxScaler().fit_transform(X)\n",
        "\n",
        "#show data in plot\n",
        "plt.plot(X[Y == 1, 0], X[Y == 1, 1], 'ro')\n",
        "plt.plot(X[Y == 0, 0], X[Y == 0, 1], 'bo')\n",
        "plt.grid('on')"
      ]
    },
    {
      "cell_type": "markdown",
      "metadata": {
        "id": "cRL1c6UyRHAy"
      },
      "source": [
        "We are now going to define some useful auxillary functions.\n",
        "\n",
        "First, a function that shows the decision boundary of our network. This works only for 2D input data"
      ]
    },
    {
      "cell_type": "code",
      "execution_count": 45,
      "metadata": {
        "id": "x0cUhY8xRHAz"
      },
      "outputs": [],
      "source": [
        "# THIS CODE IS GIVEN\n",
        "\n",
        "def plot_decision_function_2d(model_mlp, X, Y):\n",
        "   # create a mesh to plot in\n",
        "    h = .02  # step size in the mesh\n",
        "    offset = 0.1\n",
        "    x_min, x_max = X[:, 0].min() - offset, X[:, 0].max() + offset\n",
        "    y_min, y_max = X[:, 1].min() - offset, X[:, 1].max() + offset\n",
        "    xx, yy = np.meshgrid(np.arange(x_min, x_max, h),\n",
        "                         np.arange(y_min, y_max, h))\n",
        "\n",
        "    # Plot the decision boundary. For that, we will assign a color to each\n",
        "    # point in the mesh [x_min, x_max]x[y_min, y_max].\n",
        "    Z = model_mlp.predict(np.c_[xx.ravel(), yy.ravel()])\n",
        "    print(Z.shape)\n",
        "    print(Z)\n",
        "    \n",
        "    Z = Z<0.5\n",
        "    # Put the result into a color plot\n",
        "    Z = Z.reshape(xx.shape)\n",
        "    plt.figure()\n",
        "    plt.contourf(xx, yy, Z, cmap=plt.cm.Paired)\n",
        "\n",
        "    plt.plot(X[Y == 1, 0], X[Y == 1, 1], 'yo')\n",
        "    plt.plot(X[Y == 0, 0], X[Y == 0, 1], 'ko')\n",
        "\n",
        "    plt.title(\"Decision surface\")\n",
        "    plt.axis('tight')"
      ]
    },
    {
      "cell_type": "markdown",
      "metadata": {
        "id": "CKtZJ5iQRHA0"
      },
      "source": [
        "## CREATING AND TRAINING THE MODEL\n",
        "\n",
        "We are now ready to create our network with a Tensorflow Session and to carry out training on our training dataset."
      ]
    },
    {
      "cell_type": "code",
      "execution_count": 47,
      "metadata": {
        "id": "WO8dHtrGRHA0"
      },
      "outputs": [
        {
          "name": "stdout",
          "output_type": "stream",
          "text": [
            "(850, 2)\n",
            "Training\n",
            "Epoch 1/20\n",
            "14/14 [==============================] - 0s 714us/step - loss: 0.6630 - accuracy: 0.6506\n",
            "Epoch 2/20\n",
            "14/14 [==============================] - 0s 703us/step - loss: 0.5956 - accuracy: 0.7118\n",
            "Epoch 3/20\n",
            "14/14 [==============================] - 0s 709us/step - loss: 0.4963 - accuracy: 0.7788\n",
            "Epoch 4/20\n",
            "14/14 [==============================] - 0s 803us/step - loss: 0.3924 - accuracy: 0.8553\n",
            "Epoch 5/20\n",
            "14/14 [==============================] - 0s 808us/step - loss: 0.2581 - accuracy: 0.9412\n",
            "Epoch 6/20\n",
            "14/14 [==============================] - 0s 790us/step - loss: 0.1153 - accuracy: 0.9953\n",
            "Epoch 7/20\n",
            "14/14 [==============================] - 0s 811us/step - loss: 0.0462 - accuracy: 0.9953\n",
            "Epoch 8/20\n",
            "14/14 [==============================] - 0s 776us/step - loss: 0.0220 - accuracy: 0.9988\n",
            "Epoch 9/20\n",
            "14/14 [==============================] - 0s 873us/step - loss: 0.0150 - accuracy: 1.0000\n",
            "Epoch 10/20\n",
            "14/14 [==============================] - 0s 770us/step - loss: 0.0253 - accuracy: 0.9965\n",
            "Epoch 11/20\n",
            "14/14 [==============================] - 0s 790us/step - loss: 0.0112 - accuracy: 1.0000\n",
            "Epoch 12/20\n",
            "14/14 [==============================] - 0s 803us/step - loss: 0.0056 - accuracy: 1.0000\n",
            "Epoch 13/20\n",
            "14/14 [==============================] - 0s 749us/step - loss: 0.0038 - accuracy: 1.0000\n",
            "Epoch 14/20\n",
            "14/14 [==============================] - 0s 825us/step - loss: 0.0032 - accuracy: 1.0000\n",
            "Epoch 15/20\n",
            "14/14 [==============================] - 0s 850us/step - loss: 0.0027 - accuracy: 1.0000\n",
            "Epoch 16/20\n",
            "14/14 [==============================] - 0s 734us/step - loss: 0.0025 - accuracy: 1.0000\n",
            "Epoch 17/20\n",
            "14/14 [==============================] - 0s 838us/step - loss: 0.0022 - accuracy: 1.0000\n",
            "Epoch 18/20\n",
            "14/14 [==============================] - 0s 811us/step - loss: 0.0021 - accuracy: 1.0000\n",
            "Epoch 19/20\n",
            "14/14 [==============================] - 0s 751us/step - loss: 0.0023 - accuracy: 1.0000\n",
            "Epoch 20/20\n",
            "14/14 [==============================] - 0s 728us/step - loss: 0.0019 - accuracy: 1.0000\n",
            "Testing\n",
            "5/5 - 0s - loss: 0.0023 - accuracy: 1.0000 - 72ms/epoch - 14ms/step\n"
          ]
        },
        {
          "data": {
            "text/plain": [
              "[0.00230387388728559, 1.0]"
            ]
          },
          "execution_count": 47,
          "metadata": {},
          "output_type": "execute_result"
        }
      ],
      "source": [
        "# FILL IN CODE BY STUDENTS IN THIS SECTION\n",
        "\n",
        "\n",
        "#We split up the data into training and test data, using a function from Scikit-learn :\n",
        "X_train, X_test, Y_train, Y_test = train_test_split(X, Y, test_size=0.15)\n",
        "print(X_train.shape)\n",
        "\n",
        "# Layer sizes\n",
        "n_input = X.shape[1]  # Number of input features\n",
        "n_hidden = 50  # Number of hidden nodes\n",
        "\n",
        "# create the model (using the sequential API)\n",
        "\n",
        "model_mlp = Sequential([Dense(n_hidden, activation='relu', input_shape=(n_input,)),\n",
        "                        Dense(n_hidden, activation='relu'),\n",
        "                        Dense(1, activation='sigmoid')])\n",
        "\n",
        "# create the loss and optimiser\n",
        "learning_rate = 0.01\n",
        "opt = optimizers.Adam(learning_rate=learning_rate)\n",
        "model_mlp.compile(loss='binary_crossentropy' , optimizer= opt ,metrics=[\"accuracy\"]) # TO FILL IN\n",
        "\n",
        "# Run optimisation algorithm\n",
        "n_epochs = 20\n",
        "batch_size = 64\n",
        "\n",
        "print('Training')\n",
        "model_mlp.fit(X_train, Y_train, epochs=n_epochs,batch_size=batch_size) # TO FILL IN\n",
        "\n",
        "print('Testing')\n",
        "model_mlp.evaluate(X_test,  Y_test, verbose=2) # TO FILL IN\n"
      ]
    },
    {
      "cell_type": "code",
      "execution_count": 48,
      "metadata": {
        "id": "lpBaU1rcc0oY"
      },
      "outputs": [
        {
          "name": "stdout",
          "output_type": "stream",
          "text": [
            "109/109 [==============================] - 0s 400us/step\n",
            "(3481, 1)\n",
            "[[1.5055090e-13]\n",
            " [3.2073969e-13]\n",
            " [6.8366737e-13]\n",
            " ...\n",
            " [7.8717146e-12]\n",
            " [3.3929259e-12]\n",
            " [1.4851461e-12]]\n"
          ]
        },
        {
          "data": {
            "image/png": "[encoded data removed]",
            "text/plain": [
              "<Figure size 640x480 with 1 Axes>"
            ]
          },
          "metadata": {},
          "output_type": "display_data"
        }
      ],
      "source": [
        "plot_decision_function_2d(model_mlp, X_test, Y_test)\n",
        "import seaborn as sns\n",
        "sns.set(palette='colorblind')"
      ]
    },
    {
      "cell_type": "markdown",
      "metadata": {
        "id": "6oni6Q5vRHA0"
      },
      "source": [
        "# MLP with several hidden layers\n",
        "\n",
        "We are now going to create an MLP with more hidden layers. We are going to use a more complicated dataset : the MNIST dataset, which contains images of handwritten digits. There are 10 classes, one for each digit.\n",
        "\n",
        "We are going to implement the following architecture :\n",
        "\n",
        "- Fully connected layer\n",
        "- Relu activation\n",
        "- Fully connected layer\n",
        "- Relu activation\n",
        "- Fully connected layer\n",
        "- Relu activation\n",
        "- Fully connected layer\n",
        "- Softmax output activation\n",
        "\n",
        "__IMPORTANT Note__ The sigmoid layer has been replaced by a softmax layer (at the end). This is normal, since we have a multi-class problem.\n",
        "\n",
        "\n",
        "First, we load the MNIST dataset."
      ]
    },
    {
      "cell_type": "code",
      "execution_count": 50,
      "metadata": {
        "id": "Z0cGLMKRRHA0"
      },
      "outputs": [],
      "source": [
        "# Import MNIST data\n",
        "mnist = tf.keras.datasets.mnist\n",
        "(X_train, y_train),(X_test, y_test) = mnist.load_data()\n",
        "\n",
        "Y_train = tf.keras.utils.to_categorical(y_train)  # in order to convert y to a matrix with (num_examples, num_classes) (one-hot encoding)\n",
        "Y_test = tf.keras.utils.to_categorical(y_test)  # in order to convert y to a matrix with (num_examples, num_classes) (one-hot encoding)\n",
        "\n",
        "#reshape the input images : flatten the last two dimensions\n",
        "X_train = np.reshape(X_train,(X_train.shape[0],X_train.shape[1]*X_train.shape[2]))\n",
        "X_test = np.reshape(X_test,(X_test.shape[0],X_test.shape[1]*X_test.shape[2]))\n"
      ]
    },
    {
      "cell_type": "markdown",
      "metadata": {
        "id": "EzMV_9-NRHA1"
      },
      "source": [
        "Finally, fill in the following code to create and train your MLP"
      ]
    },
    {
      "cell_type": "code",
      "execution_count": 51,
      "metadata": {
        "id": "2G7AToqyRHA1"
      },
      "outputs": [
        {
          "name": "stdout",
          "output_type": "stream",
          "text": [
            "Training\n",
            "Epoch 1/20\n",
            "938/938 [==============================] - 3s 3ms/step - loss: 1.1203 - accuracy: 0.8879\n",
            "Epoch 2/20\n",
            "938/938 [==============================] - 3s 3ms/step - loss: 0.1914 - accuracy: 0.9488\n",
            "Epoch 3/20\n",
            "938/938 [==============================] - 3s 3ms/step - loss: 0.1403 - accuracy: 0.9615\n",
            "Epoch 4/20\n",
            "938/938 [==============================] - 3s 3ms/step - loss: 0.1201 - accuracy: 0.9651\n",
            "Epoch 5/20\n",
            "938/938 [==============================] - 3s 3ms/step - loss: 0.0987 - accuracy: 0.9709\n",
            "Epoch 6/20\n",
            "938/938 [==============================] - 3s 3ms/step - loss: 0.0919 - accuracy: 0.9722\n",
            "Epoch 7/20\n",
            "938/938 [==============================] - 3s 3ms/step - loss: 0.0781 - accuracy: 0.9774\n",
            "Epoch 8/20\n",
            "938/938 [==============================] - 3s 3ms/step - loss: 0.0752 - accuracy: 0.9772\n",
            "Epoch 9/20\n",
            "938/938 [==============================] - 3s 3ms/step - loss: 0.0656 - accuracy: 0.9808\n",
            "Epoch 10/20\n",
            "938/938 [==============================] - 3s 3ms/step - loss: 0.0630 - accuracy: 0.9816\n",
            "Epoch 11/20\n",
            "938/938 [==============================] - 3s 3ms/step - loss: 0.0544 - accuracy: 0.9843\n",
            "Epoch 12/20\n",
            "938/938 [==============================] - 3s 3ms/step - loss: 0.0521 - accuracy: 0.9848\n",
            "Epoch 13/20\n",
            "938/938 [==============================] - 3s 3ms/step - loss: 0.0520 - accuracy: 0.9854\n",
            "Epoch 14/20\n",
            "938/938 [==============================] - 3s 3ms/step - loss: 0.0479 - accuracy: 0.9862\n",
            "Epoch 15/20\n",
            "938/938 [==============================] - 3s 3ms/step - loss: 0.0462 - accuracy: 0.9874\n",
            "Epoch 16/20\n",
            "938/938 [==============================] - 3s 3ms/step - loss: 0.0355 - accuracy: 0.9903\n",
            "Epoch 17/20\n",
            "938/938 [==============================] - 3s 3ms/step - loss: 0.0413 - accuracy: 0.9890\n",
            "Epoch 18/20\n",
            "938/938 [==============================] - 3s 3ms/step - loss: 0.0411 - accuracy: 0.9890\n",
            "Epoch 19/20\n",
            "938/938 [==============================] - 3s 3ms/step - loss: 0.0366 - accuracy: 0.9904\n",
            "Epoch 20/20\n",
            "938/938 [==============================] - 3s 3ms/step - loss: 0.0282 - accuracy: 0.9926\n",
            "Testing\n",
            "313/313 - 0s - loss: 0.1362 - accuracy: 0.9711 - 293ms/epoch - 936us/step\n"
          ]
        },
        {
          "data": {
            "text/plain": [
              "[0.1361701488494873, 0.9710999727249146]"
            ]
          },
          "execution_count": 51,
          "metadata": {},
          "output_type": "execute_result"
        }
      ],
      "source": [
        "\n",
        "# Network Parameters\n",
        "n_hidden_1 = 256 # 1st layer number of neurons\n",
        "n_hidden_2 = 256 # 2nd layer number of neurons\n",
        "n_hidden_3 = 128 # 2nd layer number of neurons\n",
        "\n",
        "n_input = X_train.shape[1]\n",
        "n_classes = Y_train.shape[1] # MNIST total classes (0-9 digits)\n",
        "\n",
        "# TO CODE BY STUDENTS\n",
        "\n",
        "\n",
        "model_mlp_multi_layer = Sequential([Dense(n_hidden_1, activation='relu', input_shape=(n_input,)),\n",
        "                                    Dense(n_hidden_2, activation='relu'),\n",
        "                                    Dense(n_hidden_3, activation='relu'),\n",
        "                                    Dense(n_classes, activation='softmax')])\n",
        "\n",
        "# create the loss and optimiser, use 'categorical_crossentropy' in loss\n",
        "learning_rate = 0.01\n",
        "opt = optimizers.Adam(learning_rate=.001)\n",
        "model_mlp_multi_layer.compile(loss='categorical_crossentropy' , optimizer= opt ,metrics=[\"accuracy\"]) \n",
        "\n",
        "# Run optimisation algorithm\n",
        "n_epochs = 20\n",
        "batch_size = 64\n",
        "\n",
        "print('Training')\n",
        "model_mlp_multi_layer.fit(X_train, Y_train, epochs=n_epochs,batch_size=batch_size) \n",
        "\n",
        "print('Testing')\n",
        "model_mlp_multi_layer.evaluate(X_test,  Y_test, verbose=2)"
      ]
    },
    {
      "cell_type": "code",
      "execution_count": 22,
      "metadata": {
        "id": "s6Q-JntxluxG"
      },
      "outputs": [],
      "source": [
        "# THIS CODE IS GIVEN\n",
        "\n",
        "def test_mnist_images(model_mlp_multi_layer,X_test):\n",
        "  plt.figure(figsize=(10, 6))\n",
        "  for idx in range(0,10):\n",
        "      plt.subplot(2, 5, idx+1)\n",
        "      rand_ind = np.random.randint(0,X_test.shape[0])\n",
        "      plt.imshow(np.reshape(X_test[rand_ind,:],(28,28)),cmap='gray')\n",
        "      # get prediction\n",
        "      model_prediction = np.argmax(model_mlp_multi_layer.predict(np.expand_dims( X_test[rand_ind,:], axis=0)),axis=1)\n",
        "      plt.title(int(model_prediction))"
      ]
    },
    {
      "cell_type": "code",
      "execution_count": 23,
      "metadata": {
        "id": "r2D9RE4apVWW"
      },
      "outputs": [
        {
          "name": "stdout",
          "output_type": "stream",
          "text": [
            "1/1 [==============================] - 0s 34ms/step\n",
            "1/1 [==============================] - 0s 11ms/step\n",
            "1/1 [==============================] - 0s 11ms/step\n",
            "1/1 [==============================] - 0s 10ms/step\n",
            "1/1 [==============================] - 0s 10ms/step\n",
            "1/1 [==============================] - 0s 11ms/step\n",
            "1/1 [==============================] - 0s 11ms/step\n",
            "1/1 [==============================] - 0s 10ms/step\n",
            "1/1 [==============================] - 0s 11ms/step\n",
            "1/1 [==============================] - 0s 11ms/step\n"
          ]
        },
        {
          "data": {
            "image/png": "[encoded data removed]",
            "text/plain": [
              "<Figure size 1000x600 with 10 Axes>"
            ]
          },
          "metadata": {},
          "output_type": "display_data"
        }
      ],
      "source": [
        "test_mnist_images(model_mlp_multi_layer,X_test)"
      ]
    },
    {
      "cell_type": "markdown",
      "metadata": {
        "id": "lItdBVnfu7xK"
      },
      "source": [
        "You may observe some difficulties in getting good performance in this case. To improve training, we can turn to __batch_normalisation__ and __regularisation__"
      ]
    },
    {
      "cell_type": "markdown",
      "metadata": {
        "id": "Vgao_U5XRHA2"
      },
      "source": [
        "## BATCH NORMALISATION\n",
        "\n",
        "One approach to improving the convergence of neural network training which we have seen during the lesson is known as batch normalisation, which we have seen during the lesson. This can be implemented very simply in Tensorflow by adding the following layer :\n",
        "\n",
        "- ```BatchNormalization()```\n",
        "\n",
        "Change your model below, and implement this using your code above"
      ]
    },
    {
      "cell_type": "code",
      "execution_count": 36,
      "metadata": {
        "id": "6Ela5-4XRHA2"
      },
      "outputs": [
        {
          "name": "stderr",
          "output_type": "stream",
          "text": [
            "WARNING:absl:`lr` is deprecated, please use `learning_rate` instead, or use the legacy optimizer, e.g.,tf.keras.optimizers.legacy.Adam.\n"
          ]
        },
        {
          "name": "stdout",
          "output_type": "stream",
          "text": [
            "Training\n",
            "Epoch 1/20\n",
            "938/938 [==============================] - 4s 4ms/step - loss: 0.2037 - accuracy: 0.9382\n",
            "Epoch 2/20\n",
            "938/938 [==============================] - 3s 3ms/step - loss: 0.0927 - accuracy: 0.9712\n",
            "Epoch 3/20\n",
            "938/938 [==============================] - 3s 4ms/step - loss: 0.0676 - accuracy: 0.9786\n",
            "Epoch 4/20\n",
            "938/938 [==============================] - 3s 4ms/step - loss: 0.0538 - accuracy: 0.9825\n",
            "Epoch 5/20\n",
            "938/938 [==============================] - 3s 4ms/step - loss: 0.0453 - accuracy: 0.9847\n",
            "Epoch 6/20\n",
            "938/938 [==============================] - 3s 4ms/step - loss: 0.0400 - accuracy: 0.9865\n",
            "Epoch 7/20\n",
            "938/938 [==============================] - 3s 4ms/step - loss: 0.0339 - accuracy: 0.9889\n",
            "Epoch 8/20\n",
            "938/938 [==============================] - 3s 3ms/step - loss: 0.0309 - accuracy: 0.9895\n",
            "Epoch 9/20\n",
            "938/938 [==============================] - 3s 4ms/step - loss: 0.0269 - accuracy: 0.9910\n",
            "Epoch 10/20\n",
            "938/938 [==============================] - 3s 4ms/step - loss: 0.0240 - accuracy: 0.9920\n",
            "Epoch 11/20\n",
            "938/938 [==============================] - 4s 4ms/step - loss: 0.0216 - accuracy: 0.9929\n",
            "Epoch 12/20\n",
            "938/938 [==============================] - 3s 4ms/step - loss: 0.0190 - accuracy: 0.9934\n",
            "Epoch 13/20\n",
            "938/938 [==============================] - 3s 4ms/step - loss: 0.0184 - accuracy: 0.9938\n",
            "Epoch 14/20\n",
            "938/938 [==============================] - 3s 3ms/step - loss: 0.0176 - accuracy: 0.9940\n",
            "Epoch 15/20\n",
            "938/938 [==============================] - 3s 3ms/step - loss: 0.0169 - accuracy: 0.9940\n",
            "Epoch 16/20\n",
            "938/938 [==============================] - 2s 3ms/step - loss: 0.0142 - accuracy: 0.9955\n",
            "Epoch 17/20\n",
            "938/938 [==============================] - 2s 2ms/step - loss: 0.0121 - accuracy: 0.9958\n",
            "Epoch 18/20\n",
            "938/938 [==============================] - 2s 3ms/step - loss: 0.0139 - accuracy: 0.9953\n",
            "Epoch 19/20\n",
            "938/938 [==============================] - 2s 2ms/step - loss: 0.0143 - accuracy: 0.9951\n",
            "Epoch 20/20\n",
            "938/938 [==============================] - 2s 2ms/step - loss: 0.0111 - accuracy: 0.9965\n",
            "Testing\n",
            "313/313 - 0s - loss: 0.0664 - accuracy: 0.9824 - 305ms/epoch - 974us/step\n"
          ]
        },
        {
          "data": {
            "text/plain": [
              "[0.06644821912050247, 0.9824000000953674]"
            ]
          },
          "execution_count": 36,
          "metadata": {},
          "output_type": "execute_result"
        }
      ],
      "source": [
        "from tensorflow.keras.layers import Dense, BatchNormalization\n",
        "# Network Parameters\n",
        "n_hidden_1 = 256 # 1st layer number of neurons\n",
        "n_hidden_2 = 256 # 2nd layer number of neurons\n",
        "n_hidden_3 = 128 # 2nd layer number of neurons\n",
        "\n",
        "n_input = X_train.shape[1]\n",
        "n_classes = Y_train.shape[1] # MNIST total classes (0-9 digits)\n",
        "\n",
        "\n",
        "# TO CODE BY STUDENTS\n",
        "model_mlp_multi_layer = Sequential([Dense(n_hidden_1, activation='relu', input_shape=(n_input,)),\n",
        "                                    BatchNormalization(),\n",
        "                                    Dense(n_hidden_2, activation='relu'),\n",
        "                                    BatchNormalization(),\n",
        "                                    Dense(n_hidden_3, activation='relu'),\n",
        "                                    BatchNormalization(),\n",
        "                                    Dense(n_classes, activation='softmax')])\n",
        "\n",
        "# create the loss and optimiser, use 'categorical_crossentropy' in loss\n",
        "learning_rate = 0.001\n",
        "opt = optimizers.Adam(learning_rate=learning_rate)\n",
        "model_mlp_multi_layer.compile(loss='categorical_crossentropy' , optimizer= opt ,metrics=[\"accuracy\"]) \n",
        "\n",
        "# Run optimisation algorithm\n",
        "n_epochs = 20\n",
        "batch_size = 64\n",
        "\n",
        "print('Training')\n",
        "model_mlp_multi_layer.fit(X_train, Y_train, epochs=n_epochs,batch_size=batch_size) \n",
        "\n",
        "print('Testing')\n",
        "model_mlp_multi_layer.evaluate(X_test,  Y_test, verbose=2)\n"
      ]
    },
    {
      "cell_type": "code",
      "execution_count": 38,
      "metadata": {
        "id": "cSxGzvQ3pg3u"
      },
      "outputs": [
        {
          "name": "stdout",
          "output_type": "stream",
          "text": [
            "1/1 [==============================] - 0s 11ms/step\n",
            "1/1 [==============================] - 0s 11ms/step\n",
            "1/1 [==============================] - 0s 12ms/step\n",
            "1/1 [==============================] - 0s 13ms/step\n",
            "1/1 [==============================] - 0s 15ms/step\n",
            "1/1 [==============================] - 0s 13ms/step\n",
            "1/1 [==============================] - 0s 12ms/step\n",
            "1/1 [==============================] - 0s 14ms/step\n",
            "1/1 [==============================] - 0s 13ms/step\n",
            "1/1 [==============================] - 0s 11ms/step\n"
          ]
        },
        {
          "data": {
            "image/png": "[encoded data removed]",
            "text/plain": [
              "<Figure size 1000x600 with 10 Axes>"
            ]
          },
          "metadata": {},
          "output_type": "display_data"
        }
      ],
      "source": [
        "test_mnist_images(model_mlp_multi_layer,X_test)"
      ]
    },
    {
      "cell_type": "markdown",
      "metadata": {
        "id": "iQPJDop31Nci"
      },
      "source": [
        "## Dropout\n",
        "\n",
        "Often in the process of training neural networks, there is a difference between the training accuracy and the testing accuracy. This is the problem of overfitting. To alleviate this problem, we can turn to _dropout_:\n",
        "\n",
        "```tf.keras.layers.Dropout(rate,...)```\n",
        "\n",
        "where rate is the probability that an input neuron to a layer will get set to 0. You can do this in any layer. Use the previous architecture and try out the dropout. Set the dropout rate to 0.1 on the first layer as a test. Then try it out on all layers (you may not see a great difference here since the mnist database is relatively simple, this is just to show you how it is done). "
      ]
    },
    {
      "cell_type": "code",
      "execution_count": 40,
      "metadata": {
        "id": "x-BF-fpo1PpW"
      },
      "outputs": [
        {
          "name": "stderr",
          "output_type": "stream",
          "text": [
            "WARNING:absl:`lr` is deprecated, please use `learning_rate` instead, or use the legacy optimizer, e.g.,tf.keras.optimizers.legacy.Adam.\n"
          ]
        },
        {
          "name": "stdout",
          "output_type": "stream",
          "text": [
            "Training\n",
            "Epoch 1/20\n",
            "938/938 [==============================] - 4s 3ms/step - loss: 1.2883 - accuracy: 0.8472\n",
            "Epoch 2/20\n",
            "938/938 [==============================] - 3s 3ms/step - loss: 0.2516 - accuracy: 0.9291\n",
            "Epoch 3/20\n",
            "938/938 [==============================] - 3s 3ms/step - loss: 0.1803 - accuracy: 0.9477\n",
            "Epoch 4/20\n",
            "938/938 [==============================] - 3s 3ms/step - loss: 0.1511 - accuracy: 0.9560\n",
            "Epoch 5/20\n",
            "938/938 [==============================] - 3s 3ms/step - loss: 0.1319 - accuracy: 0.9605\n",
            "Epoch 6/20\n",
            "938/938 [==============================] - 3s 3ms/step - loss: 0.1153 - accuracy: 0.9657\n",
            "Epoch 7/20\n",
            "938/938 [==============================] - 3s 3ms/step - loss: 0.1079 - accuracy: 0.9688\n",
            "Epoch 8/20\n",
            "938/938 [==============================] - 3s 3ms/step - loss: 0.1017 - accuracy: 0.9712\n",
            "Epoch 9/20\n",
            "938/938 [==============================] - 3s 3ms/step - loss: 0.0943 - accuracy: 0.9735\n",
            "Epoch 10/20\n",
            "938/938 [==============================] - 3s 3ms/step - loss: 0.0915 - accuracy: 0.9747\n",
            "Epoch 11/20\n",
            "938/938 [==============================] - 3s 3ms/step - loss: 0.0791 - accuracy: 0.9776\n",
            "Epoch 12/20\n",
            "938/938 [==============================] - 3s 3ms/step - loss: 0.0752 - accuracy: 0.9789\n",
            "Epoch 13/20\n",
            "938/938 [==============================] - 3s 3ms/step - loss: 0.0713 - accuracy: 0.9805\n",
            "Epoch 14/20\n",
            "938/938 [==============================] - 3s 3ms/step - loss: 0.0741 - accuracy: 0.9805\n",
            "Epoch 15/20\n",
            "938/938 [==============================] - 3s 3ms/step - loss: 0.0660 - accuracy: 0.9823\n",
            "Epoch 16/20\n",
            "938/938 [==============================] - 3s 3ms/step - loss: 0.0610 - accuracy: 0.9837\n",
            "Epoch 17/20\n",
            "938/938 [==============================] - 3s 3ms/step - loss: 0.0602 - accuracy: 0.9843\n",
            "Epoch 18/20\n",
            "938/938 [==============================] - 3s 3ms/step - loss: 0.0585 - accuracy: 0.9849\n",
            "Epoch 19/20\n",
            "938/938 [==============================] - 3s 3ms/step - loss: 0.0539 - accuracy: 0.9859\n",
            "Epoch 20/20\n",
            "938/938 [==============================] - 3s 3ms/step - loss: 0.0519 - accuracy: 0.9866\n",
            "Testing\n",
            "313/313 - 0s - loss: 0.1062 - accuracy: 0.9812 - 296ms/epoch - 946us/step\n"
          ]
        },
        {
          "data": {
            "text/plain": [
              "[0.1062152311205864, 0.9811999797821045]"
            ]
          },
          "execution_count": 40,
          "metadata": {},
          "output_type": "execute_result"
        }
      ],
      "source": [
        "from tensorflow.keras.layers import Dense, BatchNormalization, Dropout\n",
        "\n",
        "# TO CODE BY STUDENTS\n",
        "model_mlp_multi_layer = Sequential([Dense(n_hidden_1, activation='relu', input_shape=(n_input,)),\n",
        "                                    Dropout(0.1),\n",
        "                                    Dense(n_hidden_2, activation='relu'),\n",
        "                                    Dropout(0.1),\n",
        "                                    Dense(n_hidden_3, activation='relu'),\n",
        "                                    Dense(n_classes, activation='softmax')])\n",
        "\n",
        "# create the loss and optimiser, use 'categorical_crossentropy' in loss\n",
        "learning_rate = 0.001\n",
        "opt = optimizers.Adam(learning_rate=learning_rate)\n",
        "model_mlp_multi_layer.compile(loss='categorical_crossentropy' , optimizer= opt ,metrics=[\"accuracy\"]) \n",
        "\n",
        "# Run optimisation algorithm\n",
        "n_epochs = 20\n",
        "batch_size = 64\n",
        "\n",
        "print('Training')\n",
        "model_mlp_multi_layer.fit(X_train, Y_train, epochs=n_epochs,batch_size=batch_size) \n",
        "\n",
        "print('Testing')\n",
        "model_mlp_multi_layer.evaluate(X_test,  Y_test, verbose=2)\n",
        "\n"
      ]
    },
    {
      "cell_type": "markdown",
      "metadata": {
        "id": "Y2CWgKZeRHA2"
      },
      "source": [
        "#### Documentation:\n",
        "\n",
        "  - http://www.tensorflow.org\n",
        "  - http://www.deeplearningbook.org/"
      ]
    }
  ],
  "metadata": {
    "accelerator": "GPU",
    "colab": {
      "provenance": []
    },
    "kernelspec": {
      "display_name": "Python 3",
      "language": "python",
      "name": "python3"
    },
    "language_info": {
      "codemirror_mode": {
        "name": "ipython",
        "version": 3
      },
      "file_extension": ".py",
      "mimetype": "text/x-python",
      "name": "python",
      "nbconvert_exporter": "python",
      "pygments_lexer": "ipython3",
      "version": "3.7.5"
    }
  },
  "nbformat": 4,
  "nbformat_minor": 0
}
